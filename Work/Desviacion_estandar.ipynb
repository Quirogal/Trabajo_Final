{
 "cells": [
  {
   "cell_type": "code",
   "execution_count": 2,
   "metadata": {},
   "outputs": [],
   "source": [
    "df=pd.read_csv('../Datasets/spotify_dataset.csv')"
   ]
  },
  {
   "cell_type": "code",
   "execution_count": 1,
   "metadata": {},
   "outputs": [],
   "source": [
    "import pandas as pd\n"
   ]
  },
  {
   "cell_type": "markdown",
   "metadata": {},
   "source": [
    "# Desviación estándar\n",
    "\n",
    "1. Objetivos:\n",
    "- Aprender cómo se calcula la desviación estándar\n",
    "- Aprender a usar `pandas` para calcularla\n",
    "\n",
    "---\n",
    "\n",
    "2. Desarrollo:\n",
    "\n",
    "Para obtener la desviación estándar se llevan a cabo los siguientes pasos:\n",
    "\n",
    "1. Primero se obtiene el promedio de nuestros datos.\n",
    "1. Después sacamos todas las diferencias entre cada valor de nuesrto conjunto y nuestro valor típico.\n",
    "1. Después elevamos todos los resultados al cuadrado.\n",
    "1. Luego se suman todos estos valores.\n",
    "1. Luego se dividen entre la cantidad de valores - 1.\n",
    "1. Finalmente se saca la raíz cuadrada del valor resultante.\n",
    "\n",
    "pandas tiene un método con el que podemos calcular la desviación estándar rápidamente:"
   ]
  },
  {
   "cell_type": "code",
   "execution_count": 3,
   "metadata": {},
   "outputs": [
    {
     "data": {
      "text/plain": [
       "87.74421593830334"
      ]
     },
     "execution_count": 3,
     "metadata": {},
     "output_type": "execute_result"
    }
   ],
   "source": [
    "df['Highest Charting Position'].mean()"
   ]
  },
  {
   "cell_type": "code",
   "execution_count": 4,
   "metadata": {},
   "outputs": [
    {
     "data": {
      "text/plain": [
       "<bound method Series.std of 0         1\n",
       "1         2\n",
       "2         1\n",
       "3         3\n",
       "4         5\n",
       "       ... \n",
       "1551    195\n",
       "1552    196\n",
       "1553    197\n",
       "1554    198\n",
       "1555    199\n",
       "Name: Highest Charting Position, Length: 1556, dtype: int64>"
      ]
     },
     "execution_count": 4,
     "metadata": {},
     "output_type": "execute_result"
    }
   ],
   "source": [
    "df['Highest Charting Position'].std"
   ]
  },
  {
   "cell_type": "markdown",
   "metadata": {},
   "source": [
    "Entre mayor sea nuestro resultado quiere decir que nuestros datos están más dispersos (es decir, hay muchos datos que se alejan de nuestro valor típico); entre menor sea el resultado quiere decir que nuestros datos están menos dispersos (es decir, están más cerca de nuestro valor típico).\n",
    "\n",
    "Obviamente hay que tomar en cuenta el rango de nuestros valores para determinar si nuestra desviación estándar es pequeña o grande. Por ejemplo, una desviación estándar de 10 es muy pequeña si nuestros valores tienen un rango de 1 000 000. En cambio, una desviación estándar de 10 es mucho mayor si nuestros valores tienen un rango de 40."
   ]
  }
 ],
 "metadata": {
  "kernelspec": {
   "display_name": "Python 3",
   "language": "python",
   "name": "python3"
  },
  "language_info": {
   "codemirror_mode": {
    "name": "ipython",
    "version": 3
   },
   "file_extension": ".py",
   "mimetype": "text/x-python",
   "name": "python",
   "nbconvert_exporter": "python",
   "pygments_lexer": "ipython3",
   "version": "3.12.3"
  }
 },
 "nbformat": 4,
 "nbformat_minor": 2
}
