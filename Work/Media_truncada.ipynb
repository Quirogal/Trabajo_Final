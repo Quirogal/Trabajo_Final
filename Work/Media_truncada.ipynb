{
 "cells": [
  {
   "cell_type": "code",
   "execution_count": 1,
   "metadata": {},
   "outputs": [],
   "source": [
    "import pandas as pd"
   ]
  },
  {
   "cell_type": "code",
   "execution_count": 2,
   "metadata": {},
   "outputs": [],
   "source": [
    "df=pd.read_csv('../Datasets/spotify_dataset.csv')"
   ]
  },
  {
   "cell_type": "markdown",
   "metadata": {},
   "source": [
    "# Media Truncada\n",
    "\n",
    "1. Objetivos:\n",
    "\n",
    "- Aprender a estimar la media truncada usando scipy.\n",
    "\n",
    "--\n",
    "\n",
    "2. Desarrollo:\n",
    "\n",
    "La media truncada es un estimado de locación más robusto que el promedio y la mediana.\n",
    "Esto significa que es menos sensible a valores atípicos. La media truncada se obtiene de la siguiente manera:\n",
    "\n",
    "1. Primero ordenamos nuestro conjunto de manera ascendente.\n",
    "2. Después decidimos qué porcentaje de nuestros datos vamos a truncar. Los valores más comunes suelen variar entre 5% y 25%.\n",
    "3. Divide el porcentaje acordado entre dos y elimina esa fracción de tus\n",
    "datos del inicio y del final de tu secuencia. Por ejemplo, si decides truncar un 5%,\n",
    "elimina el 2.5% de tus datos del inicio de tu secuencia y el otro 2.5% del final de tu secuencia.\n",
    "4. Obtén el promedio de los valores restantes.\n",
    "\n",
    "Afortunadamente, no tenemos que hacer esto manualmente.\n",
    "La librería scipy ya ofrece un método para obtener la media truncada fácilmente:"
   ]
  },
  {
   "cell_type": "code",
   "execution_count": 3,
   "metadata": {},
   "outputs": [],
   "source": [
    "from scipy.stats import trim_mean"
   ]
  },
  {
   "cell_type": "code",
   "execution_count": 6,
   "metadata": {},
   "outputs": [
    {
     "data": {
      "text/plain": [
       "80.0"
      ]
     },
     "execution_count": 6,
     "metadata": {},
     "output_type": "execute_result"
    }
   ],
   "source": [
    "df['Highest Charting Position'].median()"
   ]
  },
  {
   "cell_type": "code",
   "execution_count": 9,
   "metadata": {},
   "outputs": [
    {
     "data": {
      "text/plain": [
       "87.74421593830334"
      ]
     },
     "execution_count": 9,
     "metadata": {},
     "output_type": "execute_result"
    }
   ],
   "source": [
    "df['Highest Charting Position'].mean()"
   ]
  },
  {
   "cell_type": "code",
   "execution_count": 4,
   "metadata": {},
   "outputs": [
    {
     "data": {
      "text/plain": [
       "85.51284109149277"
      ]
     },
     "execution_count": 4,
     "metadata": {},
     "output_type": "execute_result"
    }
   ],
   "source": [
    "porcion_truncar =0.1\n",
    "trim_mean(df['Highest Charting Position'],porcion_truncar)"
   ]
  },
  {
   "cell_type": "code",
   "execution_count": 7,
   "metadata": {},
   "outputs": [],
   "source": [
    "porcion_truncar =0.1\n",
    "media_truncada_precio =trim_mean(df['Highest Charting Position'],porcion_truncar)"
   ]
  },
  {
   "cell_type": "code",
   "execution_count": 8,
   "metadata": {},
   "outputs": [
    {
     "data": {
      "text/plain": [
       "85.51284109149277"
      ]
     },
     "execution_count": 8,
     "metadata": {},
     "output_type": "execute_result"
    }
   ],
   "source": [
    "media_truncada_precio"
   ]
  }
 ],
 "metadata": {
  "kernelspec": {
   "display_name": "Python 3",
   "language": "python",
   "name": "python3"
  },
  "language_info": {
   "codemirror_mode": {
    "name": "ipython",
    "version": 3
   },
   "file_extension": ".py",
   "mimetype": "text/x-python",
   "name": "python",
   "nbconvert_exporter": "python",
   "pygments_lexer": "ipython3",
   "version": "3.12.3"
  }
 },
 "nbformat": 4,
 "nbformat_minor": 2
}
