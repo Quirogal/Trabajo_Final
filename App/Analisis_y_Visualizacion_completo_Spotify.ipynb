{
 "cells": [
  {
   "cell_type": "markdown",
   "metadata": {},
   "source": [
    "### Import pandas as pd \n",
    "Para poder visualizar los codigos de python "
   ]
  },
  {
   "cell_type": "code",
   "execution_count": null,
   "metadata": {},
   "outputs": [],
   "source": [
    "import pandas as pd"
   ]
  },
  {
   "cell_type": "markdown",
   "metadata": {},
   "source": [
    "### df=pd.read_csv('../Datasets/.csv')\n",
    "Muy importante para cargar nuestro data sets devemos hubicarlo principalmente una carpetta llamada igual, \n",
    "de esta manera vamos a cargar el .csv "
   ]
  },
  {
   "cell_type": "code",
   "execution_count": null,
   "metadata": {},
   "outputs": [],
   "source": [
    "pd.read_csv('../Datasets/spotify_dataset.csv')\n"
   ]
  },
  {
   "cell_type": "code",
   "execution_count": null,
   "metadata": {},
   "outputs": [],
   "source": [
    "df"
   ]
  },
  {
   "cell_type": "markdown",
   "metadata": {},
   "source": [
    "# Codigos de Exploración  \n"
   ]
  },
  {
   "cell_type": "markdown",
   "metadata": {},
   "source": [
    "### df.shape \n",
    "Nos ayuda  a saber la forma o tamaño del dataset.\n",
    " "
   ]
  },
  {
   "cell_type": "code",
   "execution_count": null,
   "metadata": {},
   "outputs": [],
   "source": [
    "df.shape"
   ]
  },
  {
   "cell_type": "code",
   "execution_count": null,
   "metadata": {},
   "outputs": [],
   "source": [
    "df.columns"
   ]
  },
  {
   "cell_type": "markdown",
   "metadata": {},
   "source": [
    "### df.head()\n",
    "Nos ayuda a darnos los 5 primeros datos y si le ponemos un numero definido por ejemplo 20 ,\n",
    "nos mostrata los primeros 20 datos."
   ]
  },
  {
   "cell_type": "code",
   "execution_count": null,
   "metadata": {},
   "outputs": [],
   "source": [
    "df.head()"
   ]
  },
  {
   "cell_type": "code",
   "execution_count": null,
   "metadata": {},
   "outputs": [],
   "source": [
    "df.head(20)"
   ]
  },
  {
   "cell_type": "markdown",
   "metadata": {},
   "source": [
    "### df.tail\n",
    "Nos ayuda a darnos los 5 ultimos datos de la tabla y si ponemos ente los parentesis un 50 nos dara los 50 ultimos "
   ]
  },
  {
   "cell_type": "code",
   "execution_count": null,
   "metadata": {},
   "outputs": [],
   "source": [
    "df.tail()"
   ]
  },
  {
   "cell_type": "code",
   "execution_count": null,
   "metadata": {},
   "outputs": [],
   "source": [
    "df.tail(50)"
   ]
  },
  {
   "cell_type": "markdown",
   "metadata": {},
   "source": [
    "### df.dtypes\n",
    "Podemos ver los dtypes de todas nuestras columnas accediendo a esa propiedad:\n"
   ]
  },
  {
   "cell_type": "code",
   "execution_count": null,
   "metadata": {},
   "outputs": [],
   "source": [
    "df.dtypes\n"
   ]
  },
  {
   "cell_type": "markdown",
   "metadata": {},
   "source": [
    "### df.info\n",
    "También podemos usar la función info del DataFrame para ver más información sobre las columnas. Por ejemplo, el número de valores no nulos que hay en cada una."
   ]
  },
  {
   "cell_type": "code",
   "execution_count": null,
   "metadata": {},
   "outputs": [],
   "source": [
    "df.info"
   ]
  },
  {
   "cell_type": "markdown",
   "metadata": {},
   "source": [
    "### df.describe()\n",
    "Una forma descriptiva para que nos de los datos "
   ]
  },
  {
   "cell_type": "code",
   "execution_count": null,
   "metadata": {},
   "outputs": [],
   "source": [
    "df.describe()"
   ]
  },
  {
   "cell_type": "markdown",
   "metadata": {},
   "source": [
    "Boxplots\n",
    "1. Objetivos:\n",
    "- Aprender a graficar e interpretar boxplots utilizando Seaborn\n",
    "- Aprender a lidiar con valores atípicos usando IQR-Score\n",
    "2. Desarrollo:\n",
    "Los boxplots son una manera de visualizar la distribución de nuestros datos usando percentiles. Vamos a utilizar una librería de visualización de datos llamada Seaborn que hace muy sencilla la creación de boxplots."
   ]
  },
  {
   "cell_type": "code",
   "execution_count": null,
   "metadata": {},
   "outputs": [],
   "source": [
    "import pandas as pd\n",
    "import seaborn as sns\n",
    "import matplotlib.pyplot as plt"
   ]
  },
  {
   "cell_type": "code",
   "execution_count": null,
   "metadata": {},
   "outputs": [],
   "source": [
    "df=pd.read_csv('../Datasets/spotify_dataset.csv')"
   ]
  },
  {
   "cell_type": "code",
   "execution_count": null,
   "metadata": {},
   "outputs": [],
   "source": [
    "df.shape"
   ]
  },
  {
   "cell_type": "markdown",
   "metadata": {},
   "source": [
    "plt.boxplot(df['Highest Charting Position'],labels=['Highest Charting Position'])\n",
    "plt.show()"
   ]
  },
  {
   "cell_type": "markdown",
   "metadata": {},
   "source": [
    "# Desviación estándar\n",
    "\n",
    "1. Objetivos:\n",
    "- Aprender cómo se calcula la desviación estándar\n",
    "- Aprender a usar `pandas` para calcularla\n",
    "\n",
    "---\n",
    "\n",
    "2. Desarrollo:\n",
    "\n",
    "Para obtener la desviación estándar se llevan a cabo los siguientes pasos:\n",
    "\n",
    "1. Primero se obtiene el promedio de nuestros datos.\n",
    "1. Después sacamos todas las diferencias entre cada valor de nuesrto conjunto y nuestro valor típico.\n",
    "1. Después elevamos todos los resultados al cuadrado.\n",
    "1. Luego se suman todos estos valores.\n",
    "1. Luego se dividen entre la cantidad de valores - 1.\n",
    "1. Finalmente se saca la raíz cuadrada del valor resultante.\n",
    "\n",
    "pandas tiene un método con el que podemos calcular la desviación estándar rápidamente:"
   ]
  },
  {
   "cell_type": "code",
   "execution_count": null,
   "metadata": {},
   "outputs": [],
   "source": [
    "df=pd.read_csv('../Datasets/spotify_dataset.csv')"
   ]
  },
  {
   "cell_type": "code",
   "execution_count": null,
   "metadata": {},
   "outputs": [],
   "source": [
    "import pandas as pd\n"
   ]
  },
  {
   "cell_type": "code",
   "execution_count": null,
   "metadata": {},
   "outputs": [],
   "source": [
    "df['Highest Charting Position'].mean()"
   ]
  },
  {
   "cell_type": "code",
   "execution_count": null,
   "metadata": {},
   "outputs": [],
   "source": [
    "df['Highest Charting Position'].std"
   ]
  },
  {
   "cell_type": "markdown",
   "metadata": {},
   "source": [
    "Entre mayor sea nuestro resultado quiere decir que nuestros datos están más dispersos (es decir, hay muchos datos que se alejan de nuestro valor típico); entre menor sea el resultado quiere decir que nuestros datos están menos dispersos (es decir, están más cerca de nuestro valor típico).\n",
    "\n",
    "Obviamente hay que tomar en cuenta el rango de nuestros valores para determinar si nuestra desviación estándar es pequeña o grande. Por ejemplo, una desviación estándar de 10 es muy pequeña si nuestros valores tienen un rango de 1 000 000. En cambio, una desviación estándar de 10 es mucho mayor si nuestros valores tienen un rango de 40."
   ]
  },
  {
   "cell_type": "markdown",
   "metadata": {},
   "source": [
    "# Cambio de Nombre a las Columnas\n",
    "\n",
    "1. Objetivos:\n",
    "- Utilizar un diccionario para el cambio de los nombres de las columnas\n",
    "- Cambiar los nombres de las columnas\n",
    "\n",
    "---\n",
    "\n",
    "2. Desarrollo:\n",
    "\n",
    "Para obtener cambiar los nombres de las columnas se llevan a cabo los siguientes pasos:\n",
    "\n",
    "1. Abrir el archivo CSV.\n",
    "2. Verificar los nombres actuales de las columnas.\n",
    "3. Cambiar los nombres de las columnas.\n",
    "4. Asignar una lista de nombres nuevos.\n",
    "5. Usar un diccionario.\n",
    "6. Renombrar usando una función.\n",
    "7. Verificar los cambios.\n",
    "\n"
   ]
  },
  {
   "cell_type": "code",
   "execution_count": null,
   "metadata": {},
   "outputs": [],
   "source": [
    "import pandas as pd"
   ]
  },
  {
   "cell_type": "code",
   "execution_count": null,
   "metadata": {},
   "outputs": [],
   "source": [
    "df=pd.read_csv('../Datasets/spotify_dataset.csv')\n"
   ]
  },
  {
   "cell_type": "code",
   "execution_count": null,
   "metadata": {},
   "outputs": [],
   "source": [
    "df"
   ]
  },
  {
   "cell_type": "code",
   "execution_count": null,
   "metadata": {},
   "outputs": [],
   "source": [
    "df2=df.rename({'Index':'Indice','Highest Charting Position':'Posición más alta en los gráficos','Number of Times Charted':'Número de veces registradas','Week of Highest Charting':'Semana de gráficos más altos','Song Name':'Nombre de la cancion','Streams':'Corrientes','Artist':'Artista','Artist Followers':'Seguidores del Artista','Song ID':'ID Cancion','Genre':'Genero','Danceability':'Bailabilidad','Energy':'Energia','Loudness':'Volumen','Speechiness':'habla','Acousticness':'Acústica','Liveness':'vivacidad','Tempo':'Tempo','Duration (ms)':'Duracion (ms)','Valence':'Valencia','Chord':'Acorde'}, axis=1)"
   ]
  },
  {
   "cell_type": "markdown",
   "metadata": {},
   "source": [
    "df2"
   ]
  },
  {
   "cell_type": "markdown",
   "metadata": {},
   "source": [
    "# Quitado de NanS\n",
    "1. Objetivos:\n",
    "- En este apartado del dataset quitaremos los datos NaNs que tiene en la informacion del Dataset.\n",
    "\n",
    "2. Pasos para la eliminacion de los NaNs.\n",
    "\n",
    "- Identificar valores NaN.\n",
    "- Eliminar los valores NaN.\n",
    "- Eliminar filas con NaN.\n",
    "- Eliminar columnas con NaN.\n",
    "- Verificar los cambios."
   ]
  },
  {
   "cell_type": "code",
   "execution_count": null,
   "metadata": {},
   "outputs": [],
   "source": [
    "import numpy as np"
   ]
  },
  {
   "cell_type": "code",
   "execution_count": null,
   "metadata": {},
   "outputs": [],
   "source": [
    "df_limpiar = df2.copy()"
   ]
  },
  {
   "cell_type": "code",
   "execution_count": null,
   "metadata": {},
   "outputs": [],
   "source": [
    "df_limpiar"
   ]
  },
  {
   "cell_type": "code",
   "execution_count": null,
   "metadata": {},
   "outputs": [],
   "source": [
    "df_limpiar['...'] =np.nan"
   ]
  },
  {
   "cell_type": "code",
   "execution_count": null,
   "metadata": {},
   "outputs": [],
   "source": [
    "df_limpiar"
   ]
  },
  {
   "cell_type": "markdown",
   "metadata": {},
   "source": [
    "# Eliminar los valores NaN:\n",
    "\n",
    "- Elige el método adecuado para eliminar los NaN según tu necesidad.\n",
    "- Eliminar filas con NaN: Utiliza el método dropna() para eliminar filas que contienen valores NaN.\n",
    "- Eliminar columnas con NaN: Utiliza el método dropna(axis=1) para eliminar columnas que contienen valores NaN.\n"
   ]
  },
  {
   "cell_type": "code",
   "execution_count": null,
   "metadata": {},
   "outputs": [],
   "source": [
    "df_limpiar.dropna(axis=1,how='all')"
   ]
  },
  {
   "cell_type": "markdown",
   "metadata": {},
   "source": [
    "## Checamos que el Dataset no tenga NaNs"
   ]
  },
  {
   "cell_type": "code",
   "execution_count": null,
   "metadata": {},
   "outputs": [],
   "source": [
    "df_limpiar.isna().sum() "
   ]
  },
  {
   "cell_type": "markdown",
   "metadata": {},
   "source": [
    "# Graficado del Dataset"
   ]
  },
  {
   "cell_type": "code",
   "execution_count": null,
   "metadata": {},
   "outputs": [],
   "source": [
    "import ast\n",
    "\n",
    "# Función para extraer el primer género de manera segura\n",
    "def extract_first_genre(genre_str):\n",
    "    try:\n",
    "        genres = ast.literal_eval(genre_str)\n",
    "        if isinstance(genres, list) and genres:\n",
    "            return genres[0]\n",
    "        else:\n",
    "            return 'Unknown'\n",
    "    except (ValueError, SyntaxError):\n",
    "        return 'Unknown'\n",
    "\n",
    "# Aplicar la función a la columna 'Genre'\n",
    "df['Primary Genre'] = df['Genre'].apply(extract_first_genre)\n",
    "\n",
    "# Convertir la columna 'Energy' a numérica\n",
    "df['Energy'] = pd.to_numeric(df['Energy'], errors='coerce')\n",
    "\n",
    "# Crear la gráfica de violín\n",
    "import seaborn as sns\n",
    "import matplotlib.pyplot as plt\n",
    "\n",
    "plt.figure(figsize=(15, 10))\n",
    "sns.violinplot(x='Primary Genre', y='Energy', data=df)\n",
    "\n",
    "# Ajustar las etiquetas para que no se superpongan\n",
    "plt.xticks(rotation=90)\n",
    "\n",
    "# Mostrar la gráfica\n",
    "plt.title('Distribución de Energía por Género')\n",
    "plt.xlabel('Género')\n",
    "plt.ylabel('Energía')\n",
    "plt.show()\n"
   ]
  },
  {
   "cell_type": "markdown",
   "metadata": {},
   "source": [
    "# Grafica de Densidad"
   ]
  },
  {
   "cell_type": "code",
   "execution_count": null,
   "metadata": {},
   "outputs": [],
   "source": [
    "import pandas as pd\n",
    "import seaborn as sns\n",
    "import matplotlib.pyplot as plt\n",
    "\n",
    "# Cargar el dataset\n",
    "df = pd.read_csv('../spotify/spotify_dataset.csv')\n",
    "\n",
    "# Convertir la columna 'Energy' a numérica\n",
    "df['Energy'] = pd.to_numeric(df['Energy'], errors='coerce')\n",
    "\n",
    "# Crear el histograma usando Seaborn\n",
    "plt.figure(figsize=(10, 6))\n",
    "sns.histplot(df['Energy'].dropna(), bins=30, kde=True)\n",
    "\n",
    "# Mostrar el histograma\n",
    "plt.title('Distribución de Energía')\n",
    "plt.xlabel('Energía')\n",
    "plt.ylabel('Frecuencia')\n",
    "plt.show()\n"
   ]
  },
  {
   "cell_type": "markdown",
   "metadata": {},
   "source": [
    "# Grafica de Dispercion"
   ]
  },
  {
   "cell_type": "code",
   "execution_count": null,
   "metadata": {},
   "outputs": [],
   "source": [
    "\n",
    "sns.scatterplot (data= df, x = 'Danceability', y = 'Energy')\n"
   ]
  },
  {
   "cell_type": "markdown",
   "metadata": {},
   "source": [
    "# Estadísticos de Orden\n",
    "\n",
    "1. Objetivos:\n",
    "- Aprender a calcular el rango y los percentiles usando pandas\n",
    "\n",
    "---\n",
    "\n",
    "2. Desarrollo:\n",
    "\n",
    "**Rango**\n",
    "\n",
    "El rango es simplemente la diferencia entre el valor máximo de un conjunto y el valor mínimo de un conjunto. Por lo tanto, podemos obtenerla de esta manera:"
   ]
  },
  {
   "cell_type": "code",
   "execution_count": null,
   "metadata": {},
   "outputs": [],
   "source": [
    "df.head()\n"
   ]
  },
  {
   "cell_type": "code",
   "execution_count": null,
   "metadata": {},
   "outputs": [],
   "source": [
    "df['Highest Charting Position'].max()"
   ]
  },
  {
   "cell_type": "code",
   "execution_count": null,
   "metadata": {},
   "outputs": [],
   "source": [
    "df ['Highest Charting Position'].min()"
   ]
  },
  {
   "cell_type": "code",
   "execution_count": null,
   "metadata": {},
   "outputs": [],
   "source": [
    "rango= df['Highest Charting Position'].max()-df['Highest Charting Position'].min()"
   ]
  },
  {
   "cell_type": "code",
   "execution_count": null,
   "metadata": {},
   "outputs": [],
   "source": [
    "rango"
   ]
  },
  {
   "cell_type": "code",
   "execution_count": null,
   "metadata": {},
   "outputs": [],
   "source": [
    "diccionario_casting ={\n",
    "    'Streams':float\n",
    "    \n",
    "}"
   ]
  },
  {
   "cell_type": "code",
   "execution_count": null,
   "metadata": {},
   "outputs": [],
   "source": [
    "df.astype(diccionario_casting)"
   ]
  },
  {
   "cell_type": "markdown",
   "metadata": {},
   "source": [
    "**Percentiles**\n",
    "\n",
    "El percentil P es un valor que indica que por lo menos P% de los valores en el conjunto tienen este valor o un valor menor; mientras que (100-P)% de los valores tienen este valor o un valor mayor. Por ejemplo, para obtener el percentil 80 primero ordenamos nuestro conjunto de manera ascendente y después elegimos un valor de manera que el 80% de los valores en nuestro conjunto sean iguales o menores a ese valor.\n",
    "\n",
    "En pandas, los percentiles están implementados como cuantiles, que es lo mismo que los percentiles pero en versión fracciones. Es decir, el percentil 80 es lo mismo que el cuantil 0.8."
   ]
  },
  {
   "cell_type": "code",
   "execution_count": null,
   "metadata": {},
   "outputs": [],
   "source": [
    "df['Highest Charting Position'].median()"
   ]
  },
  {
   "cell_type": "code",
   "execution_count": null,
   "metadata": {},
   "outputs": [],
   "source": [
    "df['Highest Charting Position'].quantile(0.5)"
   ]
  },
  {
   "cell_type": "code",
   "execution_count": null,
   "metadata": {},
   "outputs": [],
   "source": [
    "df['Highest Charting Position'].quantile(0.8)"
   ]
  },
  {
   "cell_type": "code",
   "execution_count": null,
   "metadata": {},
   "outputs": [],
   "source": [
    "df['Highest Charting Position'].quantile(0.25)"
   ]
  },
  {
   "cell_type": "code",
   "execution_count": null,
   "metadata": {},
   "outputs": [],
   "source": [
    "df['Highest Charting Position'].quantile(0.75)"
   ]
  },
  {
   "cell_type": "markdown",
   "metadata": {},
   "source": [
    "## Realizando los estadisticoscon numpy"
   ]
  },
  {
   "cell_type": "code",
   "execution_count": null,
   "metadata": {},
   "outputs": [],
   "source": [
    "import numpy as np"
   ]
  },
  {
   "cell_type": "code",
   "execution_count": null,
   "metadata": {},
   "outputs": [],
   "source": [
    "np.percentile(df['Highest Charting Position'],80)"
   ]
  },
  {
   "cell_type": "code",
   "execution_count": null,
   "metadata": {},
   "outputs": [],
   "source": [
    "np.percentile(df['Highest Charting Position'],25)"
   ]
  },
  {
   "cell_type": "code",
   "execution_count": null,
   "metadata": {},
   "outputs": [],
   "source": [
    "np.median(df['Highest Charting Position'])"
   ]
  },
  {
   "cell_type": "markdown",
   "metadata": {},
   "source": [
    "\n",
    "Anuncio: \"En este caso, el 80% de los valores en…\"\n",
    "Ing. Jose Luis Herrera Gallardo, MTI\n",
    "Fecha de creación: 16:4916:49\n",
    "En este caso, el 80% de los valores en nuestro conjunto de datos tienen un valor menor o igual a 1 440 000.\n",
    "\n",
    "Como podrás ya haber imaginado, el valor mínimo equivale al percentil 0 y el valor máximo equivale al percentil 100, mientras que la mediana es exactamente igual que el percentil 50.\n",
    "\n",
    "Sacando los percentiles podemos darnos una idea más o menos precisa de cómo están distribuidos nuestros datos.\n",
    "\n",
    "Por ejemplo:"
   ]
  },
  {
   "cell_type": "code",
   "execution_count": null,
   "metadata": {},
   "outputs": [],
   "source": [
    "def imprimirquantiles(datos):\n",
    "    valor_minimo = datos.min()\n",
    "    percentil_10 = datos.quantile(0.1)\n",
    "    percentil_25= datos.quantile(2.25)\n",
    "    percentil_50 = datos.median()\n",
    "    percentil_75 =datos.quantile(0.75)\n",
    "    percentil_90=datos.quantile(0.95)\n",
    "    valor_maximo = datos.max()\n",
    "    return{\n",
    "'valor Minimo':valor_minimo,\n",
    "'percentil 10':percentil_10,\n",
    "'percentil 25':percentil_25,\n",
    "'percentil 50':percentil_50,\n",
    "'percentil 75':percentil_75,\n",
    "'percentil 90':percentil_90,\n",
    "'valor maximo' : valor_maximo,\n",
    "}\n",
    "    \n"
   ]
  },
  {
   "cell_type": "code",
   "execution_count": null,
   "metadata": {},
   "outputs": [],
   "source": [
    "print(imprimirquantiles(df['Highest Charting Position']))"
   ]
  },
  {
   "cell_type": "markdown",
   "metadata": {},
   "source": [
    "Viendo estos números podemos inferir varias cosas:\n",
    "\n",
    "1. Casi todos nuestros datos están concentrados en valores menores a 2 000 000.\n",
    "1. Eso quiere decir que tenemos algunos valores atípicos demasiado grandes (si los comparamos con el resto de los valores)\n",
    "1. La mediana nos estaba dando un número más cercano al verdadero \"valor típico\" que el promedio.\n",
    "1. El promedio tenía un sesgo hacia arriba debido a los valores extremadamente grandes.\n",
    "1. El rango entre el valor máximo y mínimo no nos da una medida representativa de qué valores pueden tomar nuestros datos."
   ]
  },
  {
   "cell_type": "markdown",
   "metadata": {},
   "source": [
    "**Rango intercuartílico**\n",
    "\n",
    "Otra medida muy común es lo que llamamos el rango intercuartílico, que es la diferencia entre el percentil 75 y el percentil 25. Este número nos da una idea del rango que tienen los valores más cercanos al valor típico.\n",
    "\n",
    "En nuestro ejemplo, nuestro rango intercuartílico sería:"
   ]
  },
  {
   "cell_type": "code",
   "execution_count": null,
   "metadata": {},
   "outputs": [],
   "source": [
    "#rango intercuatlico\n",
    "df['Highest Charting Position'].quantile(0.75)-df['Highest Charting Position'].quantile(0.25)"
   ]
  },
  {
   "cell_type": "code",
   "execution_count": null,
   "metadata": {},
   "outputs": [],
   "source": [
    "#Rango\n",
    "df['Highest Charting Position'].max()- df['Highest Charting Position'].min()"
   ]
  },
  {
   "cell_type": "markdown",
   "metadata": {},
   "source": [
    "**La media o promedio**\n",
    "\n",
    "La media o promedio se obtiene sumando todos los valores de un conjunto de datos numéricos y dividiéndolos entre la cantidad de valores que tenemos en nuestro conjunto.\n",
    "\n",
    "Vamos a analizar la columna price. Veamos cuál es el \"valor típico\" obtenido usando la media (promedio):"
   ]
  },
  {
   "cell_type": "code",
   "execution_count": null,
   "metadata": {},
   "outputs": [],
   "source": [
    "df['Highest Charting Position'].mean()"
   ]
  },
  {
   "cell_type": "code",
   "execution_count": null,
   "metadata": {},
   "outputs": [],
   "source": [
    "df.head(20)"
   ]
  },
  {
   "cell_type": "code",
   "execution_count": null,
   "metadata": {},
   "outputs": [],
   "source": [
    "df.dtypes"
   ]
  },
  {
   "cell_type": "markdown",
   "metadata": {},
   "source": [
    "**La mediana**\n",
    "\n",
    "La mediana se obtiene de la siguiente manera:\n",
    "\n",
    "1. Primero ordenamos de manera ascendente nuestros datos\n",
    "2. Luego tomamos el valor que está justo en medio de nuestra secuencia ordenada de valores.\n",
    "3. Si nuestro conjunto tiene un número par de valores y por lo tanto no tiene un valor justo a la mitad de la secuencia, se toma el promedio de los dos valores que se encuentran a la mitad de la secuencia.\n",
    "\n",
    "Ahora veamos el \"valor típico\" obtenido usando la mediana:"
   ]
  },
  {
   "cell_type": "code",
   "execution_count": null,
   "metadata": {},
   "outputs": [],
   "source": [
    "df['Highest Charting Position'].median()"
   ]
  },
  {
   "cell_type": "markdown",
   "metadata": {},
   "source": [
    "# Media Truncada\n",
    "\n",
    "1. Objetivos:\n",
    "\n",
    "- Aprender a estimar la media truncada usando scipy.\n",
    "\n",
    "--\n",
    "\n",
    "2. Desarrollo:\n",
    "\n",
    "La media truncada es un estimado de locación más robusto que el promedio y la mediana.\n",
    "Esto significa que es menos sensible a valores atípicos. La media truncada se obtiene de la siguiente manera:\n",
    "\n",
    "1. Primero ordenamos nuestro conjunto de manera ascendente.\n",
    "2. Después decidimos qué porcentaje de nuestros datos vamos a truncar. Los valores más comunes suelen variar entre 5% y 25%.\n",
    "3. Divide el porcentaje acordado entre dos y elimina esa fracción de tus\n",
    "datos del inicio y del final de tu secuencia. Por ejemplo, si decides truncar un 5%,\n",
    "elimina el 2.5% de tus datos del inicio de tu secuencia y el otro 2.5% del final de tu secuencia.\n",
    "4. Obtén el promedio de los valores restantes.\n",
    "\n",
    "Afortunadamente, no tenemos que hacer esto manualmente.\n",
    "La librería scipy ya ofrece un método para obtener la media truncada fácilmente:"
   ]
  },
  {
   "cell_type": "code",
   "execution_count": null,
   "metadata": {},
   "outputs": [],
   "source": [
    "from scipy.stats import trim_mean"
   ]
  },
  {
   "cell_type": "code",
   "execution_count": null,
   "metadata": {},
   "outputs": [],
   "source": [
    "df['Highest Charting Position'].median()"
   ]
  },
  {
   "cell_type": "code",
   "execution_count": null,
   "metadata": {},
   "outputs": [],
   "source": [
    "df['Highest Charting Position'].mean()"
   ]
  },
  {
   "cell_type": "code",
   "execution_count": null,
   "metadata": {},
   "outputs": [],
   "source": [
    "porcion_truncar =0.1\n",
    "trim_mean(df['Highest Charting Position'],porcion_truncar)"
   ]
  },
  {
   "cell_type": "code",
   "execution_count": null,
   "metadata": {},
   "outputs": [],
   "source": [
    "porcion_truncar =0.1\n",
    "media_truncada_precio =trim_mean(df['Highest Charting Position'],porcion_truncar)"
   ]
  },
  {
   "cell_type": "code",
   "execution_count": null,
   "metadata": {},
   "outputs": [],
   "source": [
    "media_truncada_precio"
   ]
  }
 ],
 "metadata": {
  "kernelspec": {
   "display_name": "Python 3",
   "language": "python",
   "name": "python3"
  },
  "language_info": {
   "codemirror_mode": {
    "name": "ipython",
    "version": 3
   },
   "file_extension": ".py",
   "mimetype": "text/x-python",
   "name": "python",
   "nbconvert_exporter": "python",
   "pygments_lexer": "ipython3",
   "version": "3.12.3"
  }
 },
 "nbformat": 4,
 "nbformat_minor": 2
}
